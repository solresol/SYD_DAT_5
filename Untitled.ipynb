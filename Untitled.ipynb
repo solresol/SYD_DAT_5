{
 "cells": [
  {
   "cell_type": "code",
   "execution_count": 1,
   "metadata": {
    "collapsed": true
   },
   "outputs": [],
   "source": [
    "import pandas"
   ]
  },
  {
   "cell_type": "code",
   "execution_count": 15,
   "metadata": {
    "collapsed": true
   },
   "outputs": [],
   "source": [
    "df=pandas.read_csv('data/sydtrains.csv', index_col=1, thousands=',') "
   ]
  },
  {
   "cell_type": "code",
   "execution_count": 5,
   "metadata": {
    "collapsed": false
   },
   "outputs": [
    {
     "data": {
      "text/html": [
       "<div>\n",
       "<table border=\"1\" class=\"dataframe\">\n",
       "  <thead>\n",
       "    <tr style=\"text-align: right;\">\n",
       "      <th></th>\n",
       "      <th>LINE</th>\n",
       "      <th>YEAR</th>\n",
       "      <th>SURVEY_DATE_USED</th>\n",
       "      <th>WHETHER_SURVEYED</th>\n",
       "      <th>IN_0200_0600</th>\n",
       "      <th>OUT_0200_0600</th>\n",
       "      <th>IN_0600_0930</th>\n",
       "      <th>OUT_0600_0930</th>\n",
       "      <th>IN_0930_1500</th>\n",
       "      <th>OUT_0930_1500</th>\n",
       "      <th>IN_1500_1830</th>\n",
       "      <th>OUT_1500_1830</th>\n",
       "      <th>IN_1830_0200</th>\n",
       "      <th>OUT_1830_0200</th>\n",
       "      <th>IN_24_HOURS</th>\n",
       "      <th>OUT_24_HOURS</th>\n",
       "      <th>RANK</th>\n",
       "      <th>STATION_SORT_ID</th>\n",
       "    </tr>\n",
       "    <tr>\n",
       "      <th>STATION</th>\n",
       "      <th></th>\n",
       "      <th></th>\n",
       "      <th></th>\n",
       "      <th></th>\n",
       "      <th></th>\n",
       "      <th></th>\n",
       "      <th></th>\n",
       "      <th></th>\n",
       "      <th></th>\n",
       "      <th></th>\n",
       "      <th></th>\n",
       "      <th></th>\n",
       "      <th></th>\n",
       "      <th></th>\n",
       "      <th></th>\n",
       "      <th></th>\n",
       "      <th></th>\n",
       "      <th></th>\n",
       "    </tr>\n",
       "  </thead>\n",
       "  <tbody>\n",
       "    <tr>\n",
       "      <th>Central</th>\n",
       "      <td>CBD</td>\n",
       "      <td>2014</td>\n",
       "      <td>6/05/2014</td>\n",
       "      <td>Yes</td>\n",
       "      <td>940</td>\n",
       "      <td>920</td>\n",
       "      <td>10390</td>\n",
       "      <td>42070</td>\n",
       "      <td>21400</td>\n",
       "      <td>30150</td>\n",
       "      <td>45370</td>\n",
       "      <td>16270</td>\n",
       "      <td>19010</td>\n",
       "      <td>7700</td>\n",
       "      <td>97,110</td>\n",
       "      <td>97,110</td>\n",
       "      <td>1</td>\n",
       "      <td>101</td>\n",
       "    </tr>\n",
       "    <tr>\n",
       "      <th>Town Hall</th>\n",
       "      <td>CBD</td>\n",
       "      <td>2014</td>\n",
       "      <td>7/05/2014</td>\n",
       "      <td>Yes</td>\n",
       "      <td>880</td>\n",
       "      <td>880</td>\n",
       "      <td>6380</td>\n",
       "      <td>43210</td>\n",
       "      <td>16930</td>\n",
       "      <td>23550</td>\n",
       "      <td>43670</td>\n",
       "      <td>15270</td>\n",
       "      <td>21760</td>\n",
       "      <td>6720</td>\n",
       "      <td>89,620</td>\n",
       "      <td>89,620</td>\n",
       "      <td>2</td>\n",
       "      <td>102</td>\n",
       "    </tr>\n",
       "    <tr>\n",
       "      <th>Wynyard</th>\n",
       "      <td>CBD</td>\n",
       "      <td>2014</td>\n",
       "      <td>20/05/2014</td>\n",
       "      <td>Yes</td>\n",
       "      <td>590</td>\n",
       "      <td>570</td>\n",
       "      <td>4710</td>\n",
       "      <td>39620</td>\n",
       "      <td>9200</td>\n",
       "      <td>11180</td>\n",
       "      <td>35010</td>\n",
       "      <td>6510</td>\n",
       "      <td>10690</td>\n",
       "      <td>2330</td>\n",
       "      <td>60,200</td>\n",
       "      <td>60,200</td>\n",
       "      <td>3</td>\n",
       "      <td>103</td>\n",
       "    </tr>\n",
       "    <tr>\n",
       "      <th>Parramatta</th>\n",
       "      <td>Western</td>\n",
       "      <td>2014</td>\n",
       "      <td>19/11/2014</td>\n",
       "      <td>Yes</td>\n",
       "      <td>660</td>\n",
       "      <td>330</td>\n",
       "      <td>7790</td>\n",
       "      <td>13700</td>\n",
       "      <td>7400</td>\n",
       "      <td>7020</td>\n",
       "      <td>14960</td>\n",
       "      <td>8660</td>\n",
       "      <td>4150</td>\n",
       "      <td>5260</td>\n",
       "      <td>34,960</td>\n",
       "      <td>34,960</td>\n",
       "      <td>4</td>\n",
       "      <td>905</td>\n",
       "    </tr>\n",
       "    <tr>\n",
       "      <th>North Sydney</th>\n",
       "      <td>North Shore</td>\n",
       "      <td>2014</td>\n",
       "      <td>19/08/2014</td>\n",
       "      <td>Yes</td>\n",
       "      <td>270</td>\n",
       "      <td>270</td>\n",
       "      <td>2340</td>\n",
       "      <td>18340</td>\n",
       "      <td>4450</td>\n",
       "      <td>5590</td>\n",
       "      <td>17760</td>\n",
       "      <td>3050</td>\n",
       "      <td>3790</td>\n",
       "      <td>1360</td>\n",
       "      <td>28,610</td>\n",
       "      <td>28,610</td>\n",
       "      <td>5</td>\n",
       "      <td>1402</td>\n",
       "    </tr>\n",
       "  </tbody>\n",
       "</table>\n",
       "</div>"
      ],
      "text/plain": [
       "                     LINE  YEAR SURVEY_DATE_USED WHETHER_SURVEYED  \\\n",
       "STATION                                                             \n",
       "Central               CBD  2014        6/05/2014              Yes   \n",
       "Town Hall             CBD  2014        7/05/2014              Yes   \n",
       "Wynyard               CBD  2014       20/05/2014              Yes   \n",
       "Parramatta        Western  2014       19/11/2014              Yes   \n",
       "North Sydney  North Shore  2014       19/08/2014              Yes   \n",
       "\n",
       "              IN_0200_0600  OUT_0200_0600  IN_0600_0930  OUT_0600_0930  \\\n",
       "STATION                                                                  \n",
       "Central                940            920         10390          42070   \n",
       "Town Hall              880            880          6380          43210   \n",
       "Wynyard                590            570          4710          39620   \n",
       "Parramatta             660            330          7790          13700   \n",
       "North Sydney           270            270          2340          18340   \n",
       "\n",
       "              IN_0930_1500  OUT_0930_1500  IN_1500_1830  OUT_1500_1830  \\\n",
       "STATION                                                                  \n",
       "Central              21400          30150         45370          16270   \n",
       "Town Hall            16930          23550         43670          15270   \n",
       "Wynyard               9200          11180         35010           6510   \n",
       "Parramatta            7400           7020         14960           8660   \n",
       "North Sydney          4450           5590         17760           3050   \n",
       "\n",
       "              IN_1830_0200  OUT_1830_0200 IN_24_HOURS OUT_24_HOURS  RANK  \\\n",
       "STATION                                                                    \n",
       "Central              19010           7700      97,110       97,110     1   \n",
       "Town Hall            21760           6720      89,620       89,620     2   \n",
       "Wynyard              10690           2330      60,200       60,200     3   \n",
       "Parramatta            4150           5260      34,960       34,960     4   \n",
       "North Sydney          3790           1360      28,610       28,610     5   \n",
       "\n",
       "              STATION_SORT_ID  \n",
       "STATION                        \n",
       "Central                   101  \n",
       "Town Hall                 102  \n",
       "Wynyard                   103  \n",
       "Parramatta                905  \n",
       "North Sydney             1402  "
      ]
     },
     "execution_count": 5,
     "metadata": {},
     "output_type": "execute_result"
    }
   ],
   "source": [
    "df.head()"
   ]
  },
  {
   "cell_type": "code",
   "execution_count": 6,
   "metadata": {
    "collapsed": true
   },
   "outputs": [
    {
     "ename": "KeyError",
     "evalue": "'year'",
     "output_type": "error",
     "traceback": [
      "\u001b[1;31m---------------------------------------------------------------------------\u001b[0m",
      "\u001b[1;31mKeyError\u001b[0m                                  Traceback (most recent call last)",
      "\u001b[1;32m<ipython-input-6-1263510a7f34>\u001b[0m in \u001b[0;36m<module>\u001b[1;34m()\u001b[0m\n\u001b[1;32m----> 1\u001b[1;33m \u001b[0mdf2014\u001b[0m \u001b[1;33m=\u001b[0m \u001b[0mdf\u001b[0m\u001b[1;33m.\u001b[0m\u001b[0mgroupby\u001b[0m\u001b[1;33m(\u001b[0m\u001b[1;34m'year'\u001b[0m\u001b[1;33m)\u001b[0m\u001b[1;33m\u001b[0m\u001b[0m\n\u001b[0m",
      "\u001b[1;32mC:\\Users\\huangb87\\Anaconda2\\lib\\site-packages\\pandas\\core\\generic.pyc\u001b[0m in \u001b[0;36mgroupby\u001b[1;34m(self, by, axis, level, as_index, sort, group_keys, squeeze)\u001b[0m\n\u001b[0;32m   3746\u001b[0m         \u001b[0maxis\u001b[0m \u001b[1;33m=\u001b[0m \u001b[0mself\u001b[0m\u001b[1;33m.\u001b[0m\u001b[0m_get_axis_number\u001b[0m\u001b[1;33m(\u001b[0m\u001b[0maxis\u001b[0m\u001b[1;33m)\u001b[0m\u001b[1;33m\u001b[0m\u001b[0m\n\u001b[0;32m   3747\u001b[0m         return groupby(self, by=by, axis=axis, level=level, as_index=as_index,\n\u001b[1;32m-> 3748\u001b[1;33m                        sort=sort, group_keys=group_keys, squeeze=squeeze)\n\u001b[0m\u001b[0;32m   3749\u001b[0m \u001b[1;33m\u001b[0m\u001b[0m\n\u001b[0;32m   3750\u001b[0m     \u001b[1;32mdef\u001b[0m \u001b[0masfreq\u001b[0m\u001b[1;33m(\u001b[0m\u001b[0mself\u001b[0m\u001b[1;33m,\u001b[0m \u001b[0mfreq\u001b[0m\u001b[1;33m,\u001b[0m \u001b[0mmethod\u001b[0m\u001b[1;33m=\u001b[0m\u001b[0mNone\u001b[0m\u001b[1;33m,\u001b[0m \u001b[0mhow\u001b[0m\u001b[1;33m=\u001b[0m\u001b[0mNone\u001b[0m\u001b[1;33m,\u001b[0m \u001b[0mnormalize\u001b[0m\u001b[1;33m=\u001b[0m\u001b[0mFalse\u001b[0m\u001b[1;33m)\u001b[0m\u001b[1;33m:\u001b[0m\u001b[1;33m\u001b[0m\u001b[0m\n",
      "\u001b[1;32mC:\\Users\\huangb87\\Anaconda2\\lib\\site-packages\\pandas\\core\\groupby.pyc\u001b[0m in \u001b[0;36mgroupby\u001b[1;34m(obj, by, **kwds)\u001b[0m\n\u001b[0;32m   1426\u001b[0m         \u001b[1;32mraise\u001b[0m \u001b[0mTypeError\u001b[0m\u001b[1;33m(\u001b[0m\u001b[1;34m'invalid type: %s'\u001b[0m \u001b[1;33m%\u001b[0m \u001b[0mtype\u001b[0m\u001b[1;33m(\u001b[0m\u001b[0mobj\u001b[0m\u001b[1;33m)\u001b[0m\u001b[1;33m)\u001b[0m\u001b[1;33m\u001b[0m\u001b[0m\n\u001b[0;32m   1427\u001b[0m \u001b[1;33m\u001b[0m\u001b[0m\n\u001b[1;32m-> 1428\u001b[1;33m     \u001b[1;32mreturn\u001b[0m \u001b[0mklass\u001b[0m\u001b[1;33m(\u001b[0m\u001b[0mobj\u001b[0m\u001b[1;33m,\u001b[0m \u001b[0mby\u001b[0m\u001b[1;33m,\u001b[0m \u001b[1;33m**\u001b[0m\u001b[0mkwds\u001b[0m\u001b[1;33m)\u001b[0m\u001b[1;33m\u001b[0m\u001b[0m\n\u001b[0m\u001b[0;32m   1429\u001b[0m \u001b[1;33m\u001b[0m\u001b[0m\n\u001b[0;32m   1430\u001b[0m \u001b[1;33m\u001b[0m\u001b[0m\n",
      "\u001b[1;32mC:\\Users\\huangb87\\Anaconda2\\lib\\site-packages\\pandas\\core\\groupby.pyc\u001b[0m in \u001b[0;36m__init__\u001b[1;34m(self, obj, keys, axis, level, grouper, exclusions, selection, as_index, sort, group_keys, squeeze)\u001b[0m\n\u001b[0;32m    343\u001b[0m         \u001b[1;32mif\u001b[0m \u001b[0mgrouper\u001b[0m \u001b[1;32mis\u001b[0m \u001b[0mNone\u001b[0m\u001b[1;33m:\u001b[0m\u001b[1;33m\u001b[0m\u001b[0m\n\u001b[0;32m    344\u001b[0m             grouper, exclusions, obj = _get_grouper(obj, keys, axis=axis,\n\u001b[1;32m--> 345\u001b[1;33m                                                     level=level, sort=sort)\n\u001b[0m\u001b[0;32m    346\u001b[0m \u001b[1;33m\u001b[0m\u001b[0m\n\u001b[0;32m    347\u001b[0m         \u001b[0mself\u001b[0m\u001b[1;33m.\u001b[0m\u001b[0mobj\u001b[0m \u001b[1;33m=\u001b[0m \u001b[0mobj\u001b[0m\u001b[1;33m\u001b[0m\u001b[0m\n",
      "\u001b[1;32mC:\\Users\\huangb87\\Anaconda2\\lib\\site-packages\\pandas\\core\\groupby.pyc\u001b[0m in \u001b[0;36m_get_grouper\u001b[1;34m(obj, key, axis, level, sort)\u001b[0m\n\u001b[0;32m   2396\u001b[0m \u001b[1;33m\u001b[0m\u001b[0m\n\u001b[0;32m   2397\u001b[0m         \u001b[1;32melif\u001b[0m \u001b[0mis_in_axis\u001b[0m\u001b[1;33m(\u001b[0m\u001b[0mgpr\u001b[0m\u001b[1;33m)\u001b[0m\u001b[1;33m:\u001b[0m  \u001b[1;31m# df.groupby('name')\u001b[0m\u001b[1;33m\u001b[0m\u001b[0m\n\u001b[1;32m-> 2398\u001b[1;33m             \u001b[0min_axis\u001b[0m\u001b[1;33m,\u001b[0m \u001b[0mname\u001b[0m\u001b[1;33m,\u001b[0m \u001b[0mgpr\u001b[0m \u001b[1;33m=\u001b[0m \u001b[0mTrue\u001b[0m\u001b[1;33m,\u001b[0m \u001b[0mgpr\u001b[0m\u001b[1;33m,\u001b[0m \u001b[0mobj\u001b[0m\u001b[1;33m[\u001b[0m\u001b[0mgpr\u001b[0m\u001b[1;33m]\u001b[0m\u001b[1;33m\u001b[0m\u001b[0m\n\u001b[0m\u001b[0;32m   2399\u001b[0m             \u001b[0mexclusions\u001b[0m\u001b[1;33m.\u001b[0m\u001b[0mappend\u001b[0m\u001b[1;33m(\u001b[0m\u001b[0mname\u001b[0m\u001b[1;33m)\u001b[0m\u001b[1;33m\u001b[0m\u001b[0m\n\u001b[0;32m   2400\u001b[0m \u001b[1;33m\u001b[0m\u001b[0m\n",
      "\u001b[1;32mC:\\Users\\huangb87\\Anaconda2\\lib\\site-packages\\pandas\\core\\frame.pyc\u001b[0m in \u001b[0;36m__getitem__\u001b[1;34m(self, key)\u001b[0m\n\u001b[0;32m   1990\u001b[0m             \u001b[1;32mreturn\u001b[0m \u001b[0mself\u001b[0m\u001b[1;33m.\u001b[0m\u001b[0m_getitem_multilevel\u001b[0m\u001b[1;33m(\u001b[0m\u001b[0mkey\u001b[0m\u001b[1;33m)\u001b[0m\u001b[1;33m\u001b[0m\u001b[0m\n\u001b[0;32m   1991\u001b[0m         \u001b[1;32melse\u001b[0m\u001b[1;33m:\u001b[0m\u001b[1;33m\u001b[0m\u001b[0m\n\u001b[1;32m-> 1992\u001b[1;33m             \u001b[1;32mreturn\u001b[0m \u001b[0mself\u001b[0m\u001b[1;33m.\u001b[0m\u001b[0m_getitem_column\u001b[0m\u001b[1;33m(\u001b[0m\u001b[0mkey\u001b[0m\u001b[1;33m)\u001b[0m\u001b[1;33m\u001b[0m\u001b[0m\n\u001b[0m\u001b[0;32m   1993\u001b[0m \u001b[1;33m\u001b[0m\u001b[0m\n\u001b[0;32m   1994\u001b[0m     \u001b[1;32mdef\u001b[0m \u001b[0m_getitem_column\u001b[0m\u001b[1;33m(\u001b[0m\u001b[0mself\u001b[0m\u001b[1;33m,\u001b[0m \u001b[0mkey\u001b[0m\u001b[1;33m)\u001b[0m\u001b[1;33m:\u001b[0m\u001b[1;33m\u001b[0m\u001b[0m\n",
      "\u001b[1;32mC:\\Users\\huangb87\\Anaconda2\\lib\\site-packages\\pandas\\core\\frame.pyc\u001b[0m in \u001b[0;36m_getitem_column\u001b[1;34m(self, key)\u001b[0m\n\u001b[0;32m   1997\u001b[0m         \u001b[1;31m# get column\u001b[0m\u001b[1;33m\u001b[0m\u001b[1;33m\u001b[0m\u001b[0m\n\u001b[0;32m   1998\u001b[0m         \u001b[1;32mif\u001b[0m \u001b[0mself\u001b[0m\u001b[1;33m.\u001b[0m\u001b[0mcolumns\u001b[0m\u001b[1;33m.\u001b[0m\u001b[0mis_unique\u001b[0m\u001b[1;33m:\u001b[0m\u001b[1;33m\u001b[0m\u001b[0m\n\u001b[1;32m-> 1999\u001b[1;33m             \u001b[1;32mreturn\u001b[0m \u001b[0mself\u001b[0m\u001b[1;33m.\u001b[0m\u001b[0m_get_item_cache\u001b[0m\u001b[1;33m(\u001b[0m\u001b[0mkey\u001b[0m\u001b[1;33m)\u001b[0m\u001b[1;33m\u001b[0m\u001b[0m\n\u001b[0m\u001b[0;32m   2000\u001b[0m \u001b[1;33m\u001b[0m\u001b[0m\n\u001b[0;32m   2001\u001b[0m         \u001b[1;31m# duplicate columns & possible reduce dimensionality\u001b[0m\u001b[1;33m\u001b[0m\u001b[1;33m\u001b[0m\u001b[0m\n",
      "\u001b[1;32mC:\\Users\\huangb87\\Anaconda2\\lib\\site-packages\\pandas\\core\\generic.pyc\u001b[0m in \u001b[0;36m_get_item_cache\u001b[1;34m(self, item)\u001b[0m\n\u001b[0;32m   1343\u001b[0m         \u001b[0mres\u001b[0m \u001b[1;33m=\u001b[0m \u001b[0mcache\u001b[0m\u001b[1;33m.\u001b[0m\u001b[0mget\u001b[0m\u001b[1;33m(\u001b[0m\u001b[0mitem\u001b[0m\u001b[1;33m)\u001b[0m\u001b[1;33m\u001b[0m\u001b[0m\n\u001b[0;32m   1344\u001b[0m         \u001b[1;32mif\u001b[0m \u001b[0mres\u001b[0m \u001b[1;32mis\u001b[0m \u001b[0mNone\u001b[0m\u001b[1;33m:\u001b[0m\u001b[1;33m\u001b[0m\u001b[0m\n\u001b[1;32m-> 1345\u001b[1;33m             \u001b[0mvalues\u001b[0m \u001b[1;33m=\u001b[0m \u001b[0mself\u001b[0m\u001b[1;33m.\u001b[0m\u001b[0m_data\u001b[0m\u001b[1;33m.\u001b[0m\u001b[0mget\u001b[0m\u001b[1;33m(\u001b[0m\u001b[0mitem\u001b[0m\u001b[1;33m)\u001b[0m\u001b[1;33m\u001b[0m\u001b[0m\n\u001b[0m\u001b[0;32m   1346\u001b[0m             \u001b[0mres\u001b[0m \u001b[1;33m=\u001b[0m \u001b[0mself\u001b[0m\u001b[1;33m.\u001b[0m\u001b[0m_box_item_values\u001b[0m\u001b[1;33m(\u001b[0m\u001b[0mitem\u001b[0m\u001b[1;33m,\u001b[0m \u001b[0mvalues\u001b[0m\u001b[1;33m)\u001b[0m\u001b[1;33m\u001b[0m\u001b[0m\n\u001b[0;32m   1347\u001b[0m             \u001b[0mcache\u001b[0m\u001b[1;33m[\u001b[0m\u001b[0mitem\u001b[0m\u001b[1;33m]\u001b[0m \u001b[1;33m=\u001b[0m \u001b[0mres\u001b[0m\u001b[1;33m\u001b[0m\u001b[0m\n",
      "\u001b[1;32mC:\\Users\\huangb87\\Anaconda2\\lib\\site-packages\\pandas\\core\\internals.pyc\u001b[0m in \u001b[0;36mget\u001b[1;34m(self, item, fastpath)\u001b[0m\n\u001b[0;32m   3223\u001b[0m \u001b[1;33m\u001b[0m\u001b[0m\n\u001b[0;32m   3224\u001b[0m             \u001b[1;32mif\u001b[0m \u001b[1;32mnot\u001b[0m \u001b[0misnull\u001b[0m\u001b[1;33m(\u001b[0m\u001b[0mitem\u001b[0m\u001b[1;33m)\u001b[0m\u001b[1;33m:\u001b[0m\u001b[1;33m\u001b[0m\u001b[0m\n\u001b[1;32m-> 3225\u001b[1;33m                 \u001b[0mloc\u001b[0m \u001b[1;33m=\u001b[0m \u001b[0mself\u001b[0m\u001b[1;33m.\u001b[0m\u001b[0mitems\u001b[0m\u001b[1;33m.\u001b[0m\u001b[0mget_loc\u001b[0m\u001b[1;33m(\u001b[0m\u001b[0mitem\u001b[0m\u001b[1;33m)\u001b[0m\u001b[1;33m\u001b[0m\u001b[0m\n\u001b[0m\u001b[0;32m   3226\u001b[0m             \u001b[1;32melse\u001b[0m\u001b[1;33m:\u001b[0m\u001b[1;33m\u001b[0m\u001b[0m\n\u001b[0;32m   3227\u001b[0m                 \u001b[0mindexer\u001b[0m \u001b[1;33m=\u001b[0m \u001b[0mnp\u001b[0m\u001b[1;33m.\u001b[0m\u001b[0marange\u001b[0m\u001b[1;33m(\u001b[0m\u001b[0mlen\u001b[0m\u001b[1;33m(\u001b[0m\u001b[0mself\u001b[0m\u001b[1;33m.\u001b[0m\u001b[0mitems\u001b[0m\u001b[1;33m)\u001b[0m\u001b[1;33m)\u001b[0m\u001b[1;33m[\u001b[0m\u001b[0misnull\u001b[0m\u001b[1;33m(\u001b[0m\u001b[0mself\u001b[0m\u001b[1;33m.\u001b[0m\u001b[0mitems\u001b[0m\u001b[1;33m)\u001b[0m\u001b[1;33m]\u001b[0m\u001b[1;33m\u001b[0m\u001b[0m\n",
      "\u001b[1;32mC:\\Users\\huangb87\\Anaconda2\\lib\\site-packages\\pandas\\indexes\\base.pyc\u001b[0m in \u001b[0;36mget_loc\u001b[1;34m(self, key, method, tolerance)\u001b[0m\n\u001b[0;32m   1876\u001b[0m                 \u001b[1;32mreturn\u001b[0m \u001b[0mself\u001b[0m\u001b[1;33m.\u001b[0m\u001b[0m_engine\u001b[0m\u001b[1;33m.\u001b[0m\u001b[0mget_loc\u001b[0m\u001b[1;33m(\u001b[0m\u001b[0mkey\u001b[0m\u001b[1;33m)\u001b[0m\u001b[1;33m\u001b[0m\u001b[0m\n\u001b[0;32m   1877\u001b[0m             \u001b[1;32mexcept\u001b[0m \u001b[0mKeyError\u001b[0m\u001b[1;33m:\u001b[0m\u001b[1;33m\u001b[0m\u001b[0m\n\u001b[1;32m-> 1878\u001b[1;33m                 \u001b[1;32mreturn\u001b[0m \u001b[0mself\u001b[0m\u001b[1;33m.\u001b[0m\u001b[0m_engine\u001b[0m\u001b[1;33m.\u001b[0m\u001b[0mget_loc\u001b[0m\u001b[1;33m(\u001b[0m\u001b[0mself\u001b[0m\u001b[1;33m.\u001b[0m\u001b[0m_maybe_cast_indexer\u001b[0m\u001b[1;33m(\u001b[0m\u001b[0mkey\u001b[0m\u001b[1;33m)\u001b[0m\u001b[1;33m)\u001b[0m\u001b[1;33m\u001b[0m\u001b[0m\n\u001b[0m\u001b[0;32m   1879\u001b[0m \u001b[1;33m\u001b[0m\u001b[0m\n\u001b[0;32m   1880\u001b[0m         \u001b[0mindexer\u001b[0m \u001b[1;33m=\u001b[0m \u001b[0mself\u001b[0m\u001b[1;33m.\u001b[0m\u001b[0mget_indexer\u001b[0m\u001b[1;33m(\u001b[0m\u001b[1;33m[\u001b[0m\u001b[0mkey\u001b[0m\u001b[1;33m]\u001b[0m\u001b[1;33m,\u001b[0m \u001b[0mmethod\u001b[0m\u001b[1;33m=\u001b[0m\u001b[0mmethod\u001b[0m\u001b[1;33m,\u001b[0m \u001b[0mtolerance\u001b[0m\u001b[1;33m=\u001b[0m\u001b[0mtolerance\u001b[0m\u001b[1;33m)\u001b[0m\u001b[1;33m\u001b[0m\u001b[0m\n",
      "\u001b[1;32mpandas\\index.pyx\u001b[0m in \u001b[0;36mpandas.index.IndexEngine.get_loc (pandas\\index.c:4027)\u001b[1;34m()\u001b[0m\n",
      "\u001b[1;32mpandas\\index.pyx\u001b[0m in \u001b[0;36mpandas.index.IndexEngine.get_loc (pandas\\index.c:3891)\u001b[1;34m()\u001b[0m\n",
      "\u001b[1;32mpandas\\hashtable.pyx\u001b[0m in \u001b[0;36mpandas.hashtable.PyObjectHashTable.get_item (pandas\\hashtable.c:12408)\u001b[1;34m()\u001b[0m\n",
      "\u001b[1;32mpandas\\hashtable.pyx\u001b[0m in \u001b[0;36mpandas.hashtable.PyObjectHashTable.get_item (pandas\\hashtable.c:12359)\u001b[1;34m()\u001b[0m\n",
      "\u001b[1;31mKeyError\u001b[0m: 'year'"
     ]
    }
   ],
   "source": [
    "df2014 = df.groupby('year')"
   ]
  },
  {
   "cell_type": "code",
   "execution_count": 18,
   "metadata": {
    "collapsed": false
   },
   "outputs": [],
   "source": [
    "df2014=df[df.YEAR ==2014]"
   ]
  },
  {
   "cell_type": "code",
   "execution_count": 9,
   "metadata": {
    "collapsed": false
   },
   "outputs": [
    {
     "data": {
      "text/plain": [
       "'Green Square'"
      ]
     },
     "execution_count": 9,
     "metadata": {},
     "output_type": "execute_result"
    }
   ],
   "source": [
    "df2014.IN_0200_0600.idxmin(0)"
   ]
  },
  {
   "cell_type": "code",
   "execution_count": 16,
   "metadata": {
    "collapsed": false
   },
   "outputs": [
    {
     "data": {
      "text/plain": [
       "16060L"
      ]
     },
     "execution_count": 16,
     "metadata": {},
     "output_type": "execute_result"
    }
   ],
   "source": [
    "df2014.IN_0200_0600.sum()"
   ]
  },
  {
   "cell_type": "code",
   "execution_count": null,
   "metadata": {
    "collapsed": true
   },
   "outputs": [],
   "source": []
  },
  {
   "cell_type": "code",
   "execution_count": 19,
   "metadata": {
    "collapsed": false
   },
   "outputs": [
    {
     "data": {
      "text/plain": [
       "1114510L"
      ]
     },
     "execution_count": 19,
     "metadata": {},
     "output_type": "execute_result"
    }
   ],
   "source": [
    "df2014.IN_24_HOURS.sum()"
   ]
  },
  {
   "cell_type": "code",
   "execution_count": 20,
   "metadata": {
    "collapsed": false
   },
   "outputs": [
    {
     "data": {
      "text/plain": [
       "STATION\n",
       "Central                     97110\n",
       "Town Hall                   89620\n",
       "Wynyard                     60200\n",
       "Parramatta                  34960\n",
       "North Sydney                28610\n",
       "Redfern                     25680\n",
       "Chatswood                   22200\n",
       "Bondi Junction              21880\n",
       "Strathfield                 20710\n",
       "Circular Quay               20630\n",
       "Martin Place                20630\n",
       "Hurstville                  18290\n",
       "St Leonards                 17590\n",
       "Blacktown                   16560\n",
       "Burwood                     14990\n",
       "Kings Cross                 12870\n",
       "Hornsby                     12250\n",
       "Ashfield                    11200\n",
       "Kogarah                     11100\n",
       "Lidcombe                    10910\n",
       "Auburn                      10890\n",
       "Museum                      10860\n",
       "Epping                      10570\n",
       "Macquarie University        10090\n",
       "St James                     9850\n",
       "Rockdale                     9640\n",
       "Cabramatta                   8730\n",
       "Bankstown                    8630\n",
       "Liverpool                    8350\n",
       "Sutherland                   8320\n",
       "                            ...  \n",
       "Menangle Park                  20\n",
       "Port Kembla North              20\n",
       "Scone                          20\n",
       "Tarro                          20\n",
       "Aberdeen                       10\n",
       "Bombo                          10\n",
       "Branxton                       10\n",
       "Burradoo                       10\n",
       "Coalcliff                      10\n",
       "Dunmore (Shellharbour)         10\n",
       "Exeter                         10\n",
       "Greta                          10\n",
       "Linden                         10\n",
       "Marulan                        10\n",
       "Menangle                       10\n",
       "Paterson                       10\n",
       "Scarborough                    10\n",
       "Tallong                        10\n",
       "Wondabyne                      10\n",
       "Bell                            0\n",
       "Hilldale                        0\n",
       "Kembla Grange Racecourse        0\n",
       "Lochinvar                       0\n",
       "Lysaghts                        0\n",
       "Mindaribba                      0\n",
       "Penrose                         0\n",
       "Wallarobba                      0\n",
       "Wingello                        0\n",
       "Wirragulla                      0\n",
       "Zig Zag                         0\n",
       "Name: IN_24_HOURS, dtype: int64"
      ]
     },
     "execution_count": 20,
     "metadata": {},
     "output_type": "execute_result"
    }
   ],
   "source": [
    "df2014.IN_24_HOURS"
   ]
  },
  {
   "cell_type": "code",
   "execution_count": 14,
   "metadata": {
    "collapsed": true
   },
   "outputs": [],
   "source": [
    "pandas.read_csv?"
   ]
  },
  {
   "cell_type": "code",
   "execution_count": null,
   "metadata": {
    "collapsed": true
   },
   "outputs": [],
   "source": []
  },
  {
   "cell_type": "code",
   "execution_count": null,
   "metadata": {
    "collapsed": true
   },
   "outputs": [],
   "source": []
  },
  {
   "cell_type": "code",
   "execution_count": 3,
   "metadata": {
    "collapsed": false
   },
   "outputs": [
    {
     "data": {
      "text/html": [
       "<div>\n",
       "<table border=\"1\" class=\"dataframe\">\n",
       "  <thead>\n",
       "    <tr style=\"text-align: right;\">\n",
       "      <th></th>\n",
       "      <th>YEAR</th>\n",
       "      <th>IN_0200_0600</th>\n",
       "      <th>OUT_0200_0600</th>\n",
       "      <th>IN_0600_0930</th>\n",
       "      <th>OUT_0600_0930</th>\n",
       "      <th>IN_0930_1500</th>\n",
       "      <th>OUT_0930_1500</th>\n",
       "      <th>IN_1500_1830</th>\n",
       "      <th>OUT_1500_1830</th>\n",
       "      <th>IN_1830_0200</th>\n",
       "      <th>OUT_1830_0200</th>\n",
       "      <th>RANK</th>\n",
       "      <th>STATION_SORT_ID</th>\n",
       "    </tr>\n",
       "  </thead>\n",
       "  <tbody>\n",
       "    <tr>\n",
       "      <th>count</th>\n",
       "      <td>3367.000000</td>\n",
       "      <td>3367.000000</td>\n",
       "      <td>3367.000000</td>\n",
       "      <td>3367.000000</td>\n",
       "      <td>3367.000000</td>\n",
       "      <td>3367.000000</td>\n",
       "      <td>3367.000000</td>\n",
       "      <td>3367.000000</td>\n",
       "      <td>3367.000000</td>\n",
       "      <td>3367.000000</td>\n",
       "      <td>3367.000000</td>\n",
       "      <td>3367.000000</td>\n",
       "      <td>3367.000000</td>\n",
       "    </tr>\n",
       "    <tr>\n",
       "      <th>mean</th>\n",
       "      <td>2009.013959</td>\n",
       "      <td>47.528958</td>\n",
       "      <td>29.364419</td>\n",
       "      <td>1061.749332</td>\n",
       "      <td>1010.986041</td>\n",
       "      <td>712.803683</td>\n",
       "      <td>727.635878</td>\n",
       "      <td>1093.415503</td>\n",
       "      <td>1036.587467</td>\n",
       "      <td>324.359964</td>\n",
       "      <td>435.533116</td>\n",
       "      <td>152.623701</td>\n",
       "      <td>1190.570241</td>\n",
       "    </tr>\n",
       "    <tr>\n",
       "      <th>std</th>\n",
       "      <td>3.164360</td>\n",
       "      <td>96.815978</td>\n",
       "      <td>78.484683</td>\n",
       "      <td>1480.814320</td>\n",
       "      <td>4061.525304</td>\n",
       "      <td>1710.546289</td>\n",
       "      <td>2208.697265</td>\n",
       "      <td>4081.289303</td>\n",
       "      <td>1667.241032</td>\n",
       "      <td>1524.362855</td>\n",
       "      <td>789.198548</td>\n",
       "      <td>87.295273</td>\n",
       "      <td>577.821823</td>\n",
       "    </tr>\n",
       "    <tr>\n",
       "      <th>min</th>\n",
       "      <td>2004.000000</td>\n",
       "      <td>0.000000</td>\n",
       "      <td>0.000000</td>\n",
       "      <td>0.000000</td>\n",
       "      <td>0.000000</td>\n",
       "      <td>0.000000</td>\n",
       "      <td>0.000000</td>\n",
       "      <td>0.000000</td>\n",
       "      <td>0.000000</td>\n",
       "      <td>0.000000</td>\n",
       "      <td>0.000000</td>\n",
       "      <td>1.000000</td>\n",
       "      <td>101.000000</td>\n",
       "    </tr>\n",
       "    <tr>\n",
       "      <th>25%</th>\n",
       "      <td>2006.000000</td>\n",
       "      <td>10.000000</td>\n",
       "      <td>0.000000</td>\n",
       "      <td>90.000000</td>\n",
       "      <td>20.000000</td>\n",
       "      <td>40.000000</td>\n",
       "      <td>30.000000</td>\n",
       "      <td>30.000000</td>\n",
       "      <td>90.000000</td>\n",
       "      <td>10.000000</td>\n",
       "      <td>30.000000</td>\n",
       "      <td>77.000000</td>\n",
       "      <td>617.000000</td>\n",
       "    </tr>\n",
       "    <tr>\n",
       "      <th>50%</th>\n",
       "      <td>2009.000000</td>\n",
       "      <td>20.000000</td>\n",
       "      <td>10.000000</td>\n",
       "      <td>460.000000</td>\n",
       "      <td>140.000000</td>\n",
       "      <td>220.000000</td>\n",
       "      <td>190.000000</td>\n",
       "      <td>180.000000</td>\n",
       "      <td>410.000000</td>\n",
       "      <td>40.000000</td>\n",
       "      <td>150.000000</td>\n",
       "      <td>153.000000</td>\n",
       "      <td>1308.000000</td>\n",
       "    </tr>\n",
       "    <tr>\n",
       "      <th>75%</th>\n",
       "      <td>2012.000000</td>\n",
       "      <td>50.000000</td>\n",
       "      <td>20.000000</td>\n",
       "      <td>1430.000000</td>\n",
       "      <td>530.000000</td>\n",
       "      <td>620.000000</td>\n",
       "      <td>570.000000</td>\n",
       "      <td>590.000000</td>\n",
       "      <td>1300.000000</td>\n",
       "      <td>120.000000</td>\n",
       "      <td>480.000000</td>\n",
       "      <td>230.000000</td>\n",
       "      <td>1703.000000</td>\n",
       "    </tr>\n",
       "    <tr>\n",
       "      <th>max</th>\n",
       "      <td>2014.000000</td>\n",
       "      <td>940.000000</td>\n",
       "      <td>920.000000</td>\n",
       "      <td>10630.000000</td>\n",
       "      <td>43210.000000</td>\n",
       "      <td>21400.000000</td>\n",
       "      <td>30940.000000</td>\n",
       "      <td>45370.000000</td>\n",
       "      <td>16270.000000</td>\n",
       "      <td>24200.000000</td>\n",
       "      <td>7700.000000</td>\n",
       "      <td>299.000000</td>\n",
       "      <td>2029.000000</td>\n",
       "    </tr>\n",
       "  </tbody>\n",
       "</table>\n",
       "</div>"
      ],
      "text/plain": [
       "              YEAR  IN_0200_0600  OUT_0200_0600  IN_0600_0930  OUT_0600_0930  \\\n",
       "count  3367.000000   3367.000000    3367.000000   3367.000000    3367.000000   \n",
       "mean   2009.013959     47.528958      29.364419   1061.749332    1010.986041   \n",
       "std       3.164360     96.815978      78.484683   1480.814320    4061.525304   \n",
       "min    2004.000000      0.000000       0.000000      0.000000       0.000000   \n",
       "25%    2006.000000     10.000000       0.000000     90.000000      20.000000   \n",
       "50%    2009.000000     20.000000      10.000000    460.000000     140.000000   \n",
       "75%    2012.000000     50.000000      20.000000   1430.000000     530.000000   \n",
       "max    2014.000000    940.000000     920.000000  10630.000000   43210.000000   \n",
       "\n",
       "       IN_0930_1500  OUT_0930_1500  IN_1500_1830  OUT_1500_1830  IN_1830_0200  \\\n",
       "count   3367.000000    3367.000000   3367.000000    3367.000000   3367.000000   \n",
       "mean     712.803683     727.635878   1093.415503    1036.587467    324.359964   \n",
       "std     1710.546289    2208.697265   4081.289303    1667.241032   1524.362855   \n",
       "min        0.000000       0.000000      0.000000       0.000000      0.000000   \n",
       "25%       40.000000      30.000000     30.000000      90.000000     10.000000   \n",
       "50%      220.000000     190.000000    180.000000     410.000000     40.000000   \n",
       "75%      620.000000     570.000000    590.000000    1300.000000    120.000000   \n",
       "max    21400.000000   30940.000000  45370.000000   16270.000000  24200.000000   \n",
       "\n",
       "       OUT_1830_0200         RANK  STATION_SORT_ID  \n",
       "count    3367.000000  3367.000000      3367.000000  \n",
       "mean      435.533116   152.623701      1190.570241  \n",
       "std       789.198548    87.295273       577.821823  \n",
       "min         0.000000     1.000000       101.000000  \n",
       "25%        30.000000    77.000000       617.000000  \n",
       "50%       150.000000   153.000000      1308.000000  \n",
       "75%       480.000000   230.000000      1703.000000  \n",
       "max      7700.000000   299.000000      2029.000000  "
      ]
     },
     "execution_count": 3,
     "metadata": {},
     "output_type": "execute_result"
    }
   ],
   "source": [
    "df.describe()"
   ]
  }
 ],
 "metadata": {
  "kernelspec": {
   "display_name": "Python 2",
   "language": "python",
   "name": "python2"
  },
  "language_info": {
   "codemirror_mode": {
    "name": "ipython",
    "version": 2
   },
   "file_extension": ".py",
   "mimetype": "text/x-python",
   "name": "python",
   "nbconvert_exporter": "python",
   "pygments_lexer": "ipython2",
   "version": "2.7.11"
  }
 },
 "nbformat": 4,
 "nbformat_minor": 0
}
