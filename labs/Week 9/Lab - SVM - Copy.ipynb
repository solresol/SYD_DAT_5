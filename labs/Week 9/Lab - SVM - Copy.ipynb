{
 "cells": [
  {
   "cell_type": "markdown",
   "metadata": {},
   "source": [
    "# SVM\n",
    "\n",
    "In this lab we will use support vector machines to classify handwriting samples"
   ]
  },
  {
   "cell_type": "code",
   "execution_count": 1,
   "metadata": {
    "collapsed": false
   },
<<<<<<< HEAD
   "outputs": [],
=======
   "outputs": [
    {
     "name": "stderr",
     "output_type": "stream",
     "text": [
      "//anaconda/lib/python2.7/site-packages/matplotlib/font_manager.py:273: UserWarning: Matplotlib is building the font cache using fc-list. This may take a moment.\n",
      "  warnings.warn('Matplotlib is building the font cache using fc-list. This may take a moment.')\n"
     ]
    }
   ],
>>>>>>> a0c3849e25f1a6699bc3fc2b17f2a10d656fb4a6
   "source": [
    "%matplotlib inline\n",
    "import sklearn.linear_model\n",
    "import numpy\n",
    "import matplotlib.pyplot\n",
    "import sklearn.svm\n",
    "import sklearn.datasets\n",
    "import sklearn.cross_validation"
   ]
  },
  {
   "cell_type": "code",
<<<<<<< HEAD
   "execution_count": 2,
=======
   "execution_count": null,
>>>>>>> a0c3849e25f1a6699bc3fc2b17f2a10d656fb4a6
   "metadata": {
    "collapsed": false
   },
   "outputs": [],
   "source": [
    "# Load the images sample data set\n",
    "digits = sklearn.datasets.load_digits()"
   ]
  },
  {
   "cell_type": "code",
<<<<<<< HEAD
   "execution_count": 3,
   "metadata": {
    "collapsed": false
   },
   "outputs": [
    {
     "data": {
      "text/plain": [
       "<matplotlib.image.AxesImage at 0x6403978>"
      ]
     },
     "execution_count": 3,
     "metadata": {},
     "output_type": "execute_result"
    },
    {
     "data": {
      "image/png": "iVBORw0KGgoAAAANSUhEUgAAAPcAAAD7CAYAAAC2TgIoAAAABHNCSVQICAgIfAhkiAAAAAlwSFlz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\n",
      "text/plain": [
       "<matplotlib.figure.Figure at 0x8c97518>"
      ]
     },
     "metadata": {},
     "output_type": "display_data"
    }
   ],
=======
   "execution_count": null,
   "metadata": {
    "collapsed": true
   },
   "outputs": [],
>>>>>>> a0c3849e25f1a6699bc3fc2b17f2a10d656fb4a6
   "source": [
    "# You can display some sample images from the data set like this:\n",
    "matplotlib.pyplot.imshow(digits.images[-2], cmap=matplotlib.pyplot.cm.gray_r, interpolation='nearest')"
   ]
  },
  {
   "cell_type": "code",
<<<<<<< HEAD
   "execution_count": 4,
   "metadata": {
    "collapsed": false
   },
   "outputs": [
    {
     "data": {
      "text/plain": [
       "array([  0.,   0.,   2.,  10.,   7.,   0.,   0.,   0.,   0.,   0.,  14.,\n",
       "        16.,  16.,  15.,   1.,   0.,   0.,   4.,  16.,   7.,   3.,  16.,\n",
       "         7.,   0.,   0.,   5.,  16.,  10.,   7.,  16.,   4.,   0.,   0.,\n",
       "         0.,   5.,  14.,  14.,  16.,   4.,   0.,   0.,   0.,   0.,   0.,\n",
       "         0.,  16.,   2.,   0.,   0.,   0.,   4.,   7.,   7.,  16.,   2.,\n",
       "         0.,   0.,   0.,   5.,  12.,  16.,  12.,   0.,   0.])"
      ]
     },
     "execution_count": 4,
     "metadata": {},
     "output_type": "execute_result"
    }
   ],
=======
   "execution_count": null,
   "metadata": {
    "collapsed": false
   },
   "outputs": [],
>>>>>>> a0c3849e25f1a6699bc3fc2b17f2a10d656fb4a6
   "source": [
    "# The data is just an array of grayscale depths from a low-quality scanner\n",
    "digits.data[-2]"
   ]
  },
  {
   "cell_type": "code",
<<<<<<< HEAD
   "execution_count": 5,
   "metadata": {
    "collapsed": false
   },
   "outputs": [
    {
     "data": {
      "text/plain": [
       "9"
      ]
     },
     "execution_count": 5,
     "metadata": {},
     "output_type": "execute_result"
    }
   ],
=======
   "execution_count": null,
   "metadata": {
    "collapsed": false
   },
   "outputs": [],
>>>>>>> a0c3849e25f1a6699bc3fc2b17f2a10d656fb4a6
   "source": [
    "# You can see what this number is supposed to be by looking at the target array.\n",
    "digits.target[-2]"
   ]
  },
  {
   "cell_type": "code",
<<<<<<< HEAD
   "execution_count": 6,
=======
   "execution_count": null,
>>>>>>> a0c3849e25f1a6699bc3fc2b17f2a10d656fb4a6
   "metadata": {
    "collapsed": false
   },
   "outputs": [],
   "source": [
<<<<<<< HEAD
    "# Create an SVC classifier using all the default parameters\n",
    "svc = sklearn.svm.SVC()"
=======
    "# Create an SVC classifier using all the default parameters"
>>>>>>> a0c3849e25f1a6699bc3fc2b17f2a10d656fb4a6
   ]
  },
  {
   "cell_type": "code",
<<<<<<< HEAD
   "execution_count": 10,
   "metadata": {
    "collapsed": false
   },
   "outputs": [],
   "source": [
    "# Fit it to digits.data with a target of digits.target\n",
    "import pandas\n",
    "df = pandas.DataFrame(digits.data)"
   ]
  },
  {
   "cell_type": "code",
   "execution_count": 21,
   "metadata": {
    "collapsed": false
   },
   "outputs": [
    {
     "data": {
      "text/plain": [
       "SVC(C=1.0, cache_size=200, class_weight=None, coef0=0.0,\n",
       "  decision_function_shape=None, degree=3, gamma='auto', kernel='rbf',\n",
       "  max_iter=-1, probability=False, random_state=None, shrinking=True,\n",
       "  tol=0.001, verbose=False)"
      ]
     },
     "execution_count": 21,
     "metadata": {},
     "output_type": "execute_result"
    }
   ],
   "source": [
    "svc.fit(df, digits.target)"
=======
   "execution_count": null,
   "metadata": {
    "collapsed": true
   },
   "outputs": [],
   "source": [
    "# Fit it to digits.data with a target of digits.target"
>>>>>>> a0c3849e25f1a6699bc3fc2b17f2a10d656fb4a6
   ]
  },
  {
   "cell_type": "code",
<<<<<<< HEAD
   "execution_count": 28,
   "metadata": {
    "collapsed": false
   },
   "outputs": [
    {
     "data": {
      "text/plain": [
       "1.0"
      ]
     },
     "execution_count": 28,
     "metadata": {},
     "output_type": "execute_result"
    }
   ],
   "source": [
    "# Predict a few values, and see how it goes\n",
    "predictions = svc.predict(df)\n",
    "sklearn.metrics.accuracy_score(predictions, digits.target)"
=======
   "execution_count": null,
   "metadata": {
    "collapsed": false
   },
   "outputs": [],
   "source": [
    "# Predict a few values, and see how it goes"
>>>>>>> a0c3849e25f1a6699bc3fc2b17f2a10d656fb4a6
   ]
  },
  {
   "cell_type": "code",
<<<<<<< HEAD
   "execution_count": 26,
=======
   "execution_count": null,
>>>>>>> a0c3849e25f1a6699bc3fc2b17f2a10d656fb4a6
   "metadata": {
    "collapsed": false
   },
   "outputs": [],
   "source": [
    "# If you use sklearn.cross_validation.cross_val_score, how well does it perform?\n",
<<<<<<< HEAD
    "# You will want to use the parameter scoring='accuracy'\n",
    "score = sklearn.cross_validation.cross_val_score(svc, df, digits.target, scoring='accuracy', cv =5).mean()"
   ]
  },
  {
   "cell_type": "code",
   "execution_count": 27,
   "metadata": {
    "collapsed": false
   },
   "outputs": [
    {
     "data": {
      "text/plain": [
       "0.44878680061604637"
      ]
     },
     "execution_count": 27,
     "metadata": {},
     "output_type": "execute_result"
    }
   ],
   "source": [
    "score"
=======
    "# You will want to use the parameter scoring='accuracy'"
>>>>>>> a0c3849e25f1a6699bc3fc2b17f2a10d656fb4a6
   ]
  },
  {
   "cell_type": "code",
<<<<<<< HEAD
   "execution_count": 31,
   "metadata": {
    "collapsed": false
   },
   "outputs": [
    {
     "data": {
      "text/plain": [
       "GridSearchCV(cv=None, error_score='raise',\n",
       "       estimator=SVC(C=1.0, cache_size=200, class_weight=None, coef0=0.0,\n",
       "  decision_function_shape=None, degree=3, gamma='auto', kernel='rbf',\n",
       "  max_iter=-1, probability=False, random_state=None, shrinking=True,\n",
       "  tol=0.001, verbose=False),\n",
       "       fit_params={}, iid=True, n_jobs=1,\n",
       "       param_grid={'kernel': ['rbf', 'poly'], 'gamma': [0.0001, 0.001, 0.01, 0.1, 0.3, 1.0], 'C': [0.5, 1.0, 1.5], 'degree': [2, 3, 4]},\n",
       "       pre_dispatch='2*n_jobs', refit=True, scoring=None, verbose=0)"
      ]
     },
     "execution_count": 31,
     "metadata": {},
     "output_type": "execute_result"
    }
   ],
=======
   "execution_count": null,
   "metadata": {
    "collapsed": false
   },
   "outputs": [],
>>>>>>> a0c3849e25f1a6699bc3fc2b17f2a10d656fb4a6
   "source": [
    "# Try using GridSearchCV with a variety of different values for C:\n",
    "#  - kernels (rbf, poly, linear)\n",
    "#  - degrees (only relevant for poly, but 1,2,3)\n",
    "#  - gammas (try a range from 0.001 up to 1)\n",
    "#  - C (try a few values above and below 1)\n",
<<<<<<< HEAD
    "\n",
    "params = {\n",
    "    'kernel': ['rbf', 'poly'],\n",
    "    'degree': [2,3,4],\n",
    "    'gamma': [0.0001, 0.001, 0.01, 0.1, 0.3, 1.0],\n",
    "    'C': [0.5,1.0,1.5]\n",
    "}\n",
    "\n",
    "import sklearn.grid_search\n",
    "searcher = sklearn.grid_search.GridSearchCV(sklearn.svm.SVC(), param_grid=params)\n",
    "searcher.fit(digits.data, digits.target)"
   ]
  },
  {
   "cell_type": "code",
   "execution_count": 32,
   "metadata": {
    "collapsed": false
   },
   "outputs": [
    {
     "data": {
      "text/plain": [
       "SVC(C=1.5, cache_size=200, class_weight=None, coef0=0.0,\n",
       "  decision_function_shape=None, degree=2, gamma=0.001, kernel='rbf',\n",
       "  max_iter=-1, probability=False, random_state=None, shrinking=True,\n",
       "  tol=0.001, verbose=False)"
      ]
     },
     "execution_count": 32,
     "metadata": {},
     "output_type": "execute_result"
    }
   ],
   "source": [
    "searcher.best_estimator_"
   ]
  },
  {
   "cell_type": "code",
   "execution_count": 33,
   "metadata": {
    "collapsed": false
   },
   "outputs": [
    {
     "data": {
      "text/plain": [
       "0.97551474680022254"
      ]
     },
     "execution_count": 33,
     "metadata": {},
     "output_type": "execute_result"
    }
   ],
   "source": [
    "searcher.best_score_"
   ]
  },
  {
   "cell_type": "code",
   "execution_count": 34,
   "metadata": {
    "collapsed": false
   },
   "outputs": [
    {
     "data": {
      "text/plain": [
       "{'C': 1.5, 'degree': 2, 'gamma': 0.001, 'kernel': 'rbf'}"
      ]
     },
     "execution_count": 34,
     "metadata": {},
     "output_type": "execute_result"
    }
   ],
   "source": [
    "searcher.best_params_"
   ]
  },
  {
   "cell_type": "code",
   "execution_count": null,
   "metadata": {
    "collapsed": true
   },
   "outputs": [],
   "source": []
=======
    "\n"
   ]
>>>>>>> a0c3849e25f1a6699bc3fc2b17f2a10d656fb4a6
  }
 ],
 "metadata": {
  "kernelspec": {
<<<<<<< HEAD
   "display_name": "Python 3",
   "language": "python",
   "name": "python3"
=======
   "display_name": "Python 2",
   "language": "python",
   "name": "python2"
>>>>>>> a0c3849e25f1a6699bc3fc2b17f2a10d656fb4a6
  },
  "language_info": {
   "codemirror_mode": {
    "name": "ipython",
<<<<<<< HEAD
    "version": 3
=======
    "version": 2
>>>>>>> a0c3849e25f1a6699bc3fc2b17f2a10d656fb4a6
   },
   "file_extension": ".py",
   "mimetype": "text/x-python",
   "name": "python",
   "nbconvert_exporter": "python",
<<<<<<< HEAD
   "pygments_lexer": "ipython3",
   "version": "3.5.1"
=======
   "pygments_lexer": "ipython2",
   "version": "2.7.11"
>>>>>>> a0c3849e25f1a6699bc3fc2b17f2a10d656fb4a6
  }
 },
 "nbformat": 4,
 "nbformat_minor": 0
}
