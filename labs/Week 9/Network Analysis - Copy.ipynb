{
 "cells": [
  {
   "cell_type": "markdown",
   "metadata": {},
   "source": [
    "# Network analysis\n",
    "\n",
    "This notebook contains exercises for getting started with network analysis in Python. The main topics we will cover in this class are:\n",
    "1. Analysing a network\n",
    "2. Plotting a network"
   ]
  },
  {
   "cell_type": "code",
   "execution_count": 2,
   "metadata": {
    "collapsed": false
   },
   "outputs": [],
   "source": [
<<<<<<< HEAD
    "# Make sure you can import networkx, pip install it if you can't\n",
    "import networkx\n",
    "import pandas"
=======
    "# Make sure you can import networkx, pip install it if you can't\n"
   ]
  },
  {
   "cell_type": "code",
   "execution_count": null,
   "metadata": {
    "collapsed": true
   },
   "outputs": [],
   "source": [
    "# A small sample of Facebook friend data is in ../../data/facebook_combined.txt"
>>>>>>> a0c3849e25f1a6699bc3fc2b17f2a10d656fb4a6
   ]
  },
  {
   "cell_type": "code",
   "execution_count": 6,
   "metadata": {
    "collapsed": false
   },
   "outputs": [],
   "source": [
<<<<<<< HEAD
    "# A small sample of Facebook friend data is in ../../data/facebook_combined.txt\n",
    "data = pandas.read_csv('../../data/facebook_combined.txt', delimiter=' ')"
=======
    "# You can use networkx.info() to get a quick overview of the graph"
>>>>>>> a0c3849e25f1a6699bc3fc2b17f2a10d656fb4a6
   ]
  },
  {
   "cell_type": "code",
   "execution_count": 7,
   "metadata": {
    "collapsed": false
   },
   "outputs": [
    {
     "data": {
      "text/html": [
       "<div>\n",
       "<table border=\"1\" class=\"dataframe\">\n",
       "  <thead>\n",
       "    <tr style=\"text-align: right;\">\n",
       "      <th></th>\n",
       "      <th>0</th>\n",
       "      <th>1</th>\n",
       "    </tr>\n",
       "  </thead>\n",
       "  <tbody>\n",
       "    <tr>\n",
       "      <th>0</th>\n",
       "      <td>0</td>\n",
       "      <td>2</td>\n",
       "    </tr>\n",
       "    <tr>\n",
       "      <th>1</th>\n",
       "      <td>0</td>\n",
       "      <td>3</td>\n",
       "    </tr>\n",
       "    <tr>\n",
       "      <th>2</th>\n",
       "      <td>0</td>\n",
       "      <td>4</td>\n",
       "    </tr>\n",
       "    <tr>\n",
       "      <th>3</th>\n",
       "      <td>0</td>\n",
       "      <td>5</td>\n",
       "    </tr>\n",
       "    <tr>\n",
       "      <th>4</th>\n",
       "      <td>0</td>\n",
       "      <td>6</td>\n",
       "    </tr>\n",
       "    <tr>\n",
       "      <th>5</th>\n",
       "      <td>0</td>\n",
       "      <td>7</td>\n",
       "    </tr>\n",
       "    <tr>\n",
       "      <th>6</th>\n",
       "      <td>0</td>\n",
       "      <td>8</td>\n",
       "    </tr>\n",
       "    <tr>\n",
       "      <th>7</th>\n",
       "      <td>0</td>\n",
       "      <td>9</td>\n",
       "    </tr>\n",
       "    <tr>\n",
       "      <th>8</th>\n",
       "      <td>0</td>\n",
       "      <td>10</td>\n",
       "    </tr>\n",
       "    <tr>\n",
       "      <th>9</th>\n",
       "      <td>0</td>\n",
       "      <td>11</td>\n",
       "    </tr>\n",
       "    <tr>\n",
       "      <th>10</th>\n",
       "      <td>0</td>\n",
       "      <td>12</td>\n",
       "    </tr>\n",
       "    <tr>\n",
       "      <th>11</th>\n",
       "      <td>0</td>\n",
       "      <td>13</td>\n",
       "    </tr>\n",
       "    <tr>\n",
       "      <th>12</th>\n",
       "      <td>0</td>\n",
       "      <td>14</td>\n",
       "    </tr>\n",
       "    <tr>\n",
       "      <th>13</th>\n",
       "      <td>0</td>\n",
       "      <td>15</td>\n",
       "    </tr>\n",
       "    <tr>\n",
       "      <th>14</th>\n",
       "      <td>0</td>\n",
       "      <td>16</td>\n",
       "    </tr>\n",
       "    <tr>\n",
       "      <th>15</th>\n",
       "      <td>0</td>\n",
       "      <td>17</td>\n",
       "    </tr>\n",
       "    <tr>\n",
       "      <th>16</th>\n",
       "      <td>0</td>\n",
       "      <td>18</td>\n",
       "    </tr>\n",
       "    <tr>\n",
       "      <th>17</th>\n",
       "      <td>0</td>\n",
       "      <td>19</td>\n",
       "    </tr>\n",
       "    <tr>\n",
       "      <th>18</th>\n",
       "      <td>0</td>\n",
       "      <td>20</td>\n",
       "    </tr>\n",
       "    <tr>\n",
       "      <th>19</th>\n",
       "      <td>0</td>\n",
       "      <td>21</td>\n",
       "    </tr>\n",
       "    <tr>\n",
       "      <th>20</th>\n",
       "      <td>0</td>\n",
       "      <td>22</td>\n",
       "    </tr>\n",
       "    <tr>\n",
       "      <th>21</th>\n",
       "      <td>0</td>\n",
       "      <td>23</td>\n",
       "    </tr>\n",
       "    <tr>\n",
       "      <th>22</th>\n",
       "      <td>0</td>\n",
       "      <td>24</td>\n",
       "    </tr>\n",
       "    <tr>\n",
       "      <th>23</th>\n",
       "      <td>0</td>\n",
       "      <td>25</td>\n",
       "    </tr>\n",
       "    <tr>\n",
       "      <th>24</th>\n",
       "      <td>0</td>\n",
       "      <td>26</td>\n",
       "    </tr>\n",
       "    <tr>\n",
       "      <th>25</th>\n",
       "      <td>0</td>\n",
       "      <td>27</td>\n",
       "    </tr>\n",
       "    <tr>\n",
       "      <th>26</th>\n",
       "      <td>0</td>\n",
       "      <td>28</td>\n",
       "    </tr>\n",
       "    <tr>\n",
       "      <th>27</th>\n",
       "      <td>0</td>\n",
       "      <td>29</td>\n",
       "    </tr>\n",
       "    <tr>\n",
       "      <th>28</th>\n",
       "      <td>0</td>\n",
       "      <td>30</td>\n",
       "    </tr>\n",
       "    <tr>\n",
       "      <th>29</th>\n",
       "      <td>0</td>\n",
       "      <td>31</td>\n",
       "    </tr>\n",
       "    <tr>\n",
       "      <th>...</th>\n",
       "      <td>...</td>\n",
       "      <td>...</td>\n",
       "    </tr>\n",
       "    <tr>\n",
       "      <th>88203</th>\n",
       "      <td>4014</td>\n",
       "      <td>4017</td>\n",
       "    </tr>\n",
       "    <tr>\n",
       "      <th>88204</th>\n",
       "      <td>4014</td>\n",
       "      <td>4021</td>\n",
       "    </tr>\n",
       "    <tr>\n",
       "      <th>88205</th>\n",
       "      <td>4014</td>\n",
       "      <td>4023</td>\n",
       "    </tr>\n",
       "    <tr>\n",
       "      <th>88206</th>\n",
       "      <td>4014</td>\n",
       "      <td>4030</td>\n",
       "    </tr>\n",
       "    <tr>\n",
       "      <th>88207</th>\n",
       "      <td>4014</td>\n",
       "      <td>4037</td>\n",
       "    </tr>\n",
       "    <tr>\n",
       "      <th>88208</th>\n",
       "      <td>4014</td>\n",
       "      <td>4038</td>\n",
       "    </tr>\n",
       "    <tr>\n",
       "      <th>88209</th>\n",
       "      <td>4016</td>\n",
       "      <td>4025</td>\n",
       "    </tr>\n",
       "    <tr>\n",
       "      <th>88210</th>\n",
       "      <td>4017</td>\n",
       "      <td>4021</td>\n",
       "    </tr>\n",
       "    <tr>\n",
       "      <th>88211</th>\n",
       "      <td>4017</td>\n",
       "      <td>4026</td>\n",
       "    </tr>\n",
       "    <tr>\n",
       "      <th>88212</th>\n",
       "      <td>4017</td>\n",
       "      <td>4030</td>\n",
       "    </tr>\n",
       "    <tr>\n",
       "      <th>88213</th>\n",
       "      <td>4018</td>\n",
       "      <td>4023</td>\n",
       "    </tr>\n",
       "    <tr>\n",
       "      <th>88214</th>\n",
       "      <td>4018</td>\n",
       "      <td>4030</td>\n",
       "    </tr>\n",
       "    <tr>\n",
       "      <th>88215</th>\n",
       "      <td>4019</td>\n",
       "      <td>4026</td>\n",
       "    </tr>\n",
       "    <tr>\n",
       "      <th>88216</th>\n",
       "      <td>4019</td>\n",
       "      <td>4030</td>\n",
       "    </tr>\n",
       "    <tr>\n",
       "      <th>88217</th>\n",
       "      <td>4020</td>\n",
       "      <td>4027</td>\n",
       "    </tr>\n",
       "    <tr>\n",
       "      <th>88218</th>\n",
       "      <td>4020</td>\n",
       "      <td>4030</td>\n",
       "    </tr>\n",
       "    <tr>\n",
       "      <th>88219</th>\n",
       "      <td>4020</td>\n",
       "      <td>4031</td>\n",
       "    </tr>\n",
       "    <tr>\n",
       "      <th>88220</th>\n",
       "      <td>4020</td>\n",
       "      <td>4037</td>\n",
       "    </tr>\n",
       "    <tr>\n",
       "      <th>88221</th>\n",
       "      <td>4020</td>\n",
       "      <td>4038</td>\n",
       "    </tr>\n",
       "    <tr>\n",
       "      <th>88222</th>\n",
       "      <td>4021</td>\n",
       "      <td>4026</td>\n",
       "    </tr>\n",
       "    <tr>\n",
       "      <th>88223</th>\n",
       "      <td>4021</td>\n",
       "      <td>4030</td>\n",
       "    </tr>\n",
       "    <tr>\n",
       "      <th>88224</th>\n",
       "      <td>4023</td>\n",
       "      <td>4030</td>\n",
       "    </tr>\n",
       "    <tr>\n",
       "      <th>88225</th>\n",
       "      <td>4023</td>\n",
       "      <td>4031</td>\n",
       "    </tr>\n",
       "    <tr>\n",
       "      <th>88226</th>\n",
       "      <td>4023</td>\n",
       "      <td>4034</td>\n",
       "    </tr>\n",
       "    <tr>\n",
       "      <th>88227</th>\n",
       "      <td>4023</td>\n",
       "      <td>4038</td>\n",
       "    </tr>\n",
       "    <tr>\n",
       "      <th>88228</th>\n",
       "      <td>4026</td>\n",
       "      <td>4030</td>\n",
       "    </tr>\n",
       "    <tr>\n",
       "      <th>88229</th>\n",
       "      <td>4027</td>\n",
       "      <td>4031</td>\n",
       "    </tr>\n",
       "    <tr>\n",
       "      <th>88230</th>\n",
       "      <td>4027</td>\n",
       "      <td>4032</td>\n",
       "    </tr>\n",
       "    <tr>\n",
       "      <th>88231</th>\n",
       "      <td>4027</td>\n",
       "      <td>4038</td>\n",
       "    </tr>\n",
       "    <tr>\n",
       "      <th>88232</th>\n",
       "      <td>4031</td>\n",
       "      <td>4038</td>\n",
       "    </tr>\n",
       "  </tbody>\n",
       "</table>\n",
       "<p>88233 rows × 2 columns</p>\n",
       "</div>"
      ],
      "text/plain": [
       "          0     1\n",
       "0         0     2\n",
       "1         0     3\n",
       "2         0     4\n",
       "3         0     5\n",
       "4         0     6\n",
       "5         0     7\n",
       "6         0     8\n",
       "7         0     9\n",
       "8         0    10\n",
       "9         0    11\n",
       "10        0    12\n",
       "11        0    13\n",
       "12        0    14\n",
       "13        0    15\n",
       "14        0    16\n",
       "15        0    17\n",
       "16        0    18\n",
       "17        0    19\n",
       "18        0    20\n",
       "19        0    21\n",
       "20        0    22\n",
       "21        0    23\n",
       "22        0    24\n",
       "23        0    25\n",
       "24        0    26\n",
       "25        0    27\n",
       "26        0    28\n",
       "27        0    29\n",
       "28        0    30\n",
       "29        0    31\n",
       "...     ...   ...\n",
       "88203  4014  4017\n",
       "88204  4014  4021\n",
       "88205  4014  4023\n",
       "88206  4014  4030\n",
       "88207  4014  4037\n",
       "88208  4014  4038\n",
       "88209  4016  4025\n",
       "88210  4017  4021\n",
       "88211  4017  4026\n",
       "88212  4017  4030\n",
       "88213  4018  4023\n",
       "88214  4018  4030\n",
       "88215  4019  4026\n",
       "88216  4019  4030\n",
       "88217  4020  4027\n",
       "88218  4020  4030\n",
       "88219  4020  4031\n",
       "88220  4020  4037\n",
       "88221  4020  4038\n",
       "88222  4021  4026\n",
       "88223  4021  4030\n",
       "88224  4023  4030\n",
       "88225  4023  4031\n",
       "88226  4023  4034\n",
       "88227  4023  4038\n",
       "88228  4026  4030\n",
       "88229  4027  4031\n",
       "88230  4027  4032\n",
       "88231  4027  4038\n",
       "88232  4031  4038\n",
       "\n",
       "[88233 rows x 2 columns]"
      ]
     },
     "execution_count": 7,
     "metadata": {},
     "output_type": "execute_result"
    }
   ],
   "source": [
<<<<<<< HEAD
    "data"
   ]
  },
  {
   "cell_type": "code",
   "execution_count": null,
   "metadata": {
    "collapsed": false
   },
   "outputs": [],
   "source": [
    "# You can use networkx.info() to get a quick overview of the graph"
=======
    "# If you are feeling patient (it make take a minute or two), \n",
    "# use networkx.draw_networkx to draw this graph"
>>>>>>> a0c3849e25f1a6699bc3fc2b17f2a10d656fb4a6
   ]
  },
  {
   "cell_type": "code",
   "execution_count": null,
   "metadata": {
    "collapsed": true
   },
   "outputs": [],
   "source": [
<<<<<<< HEAD
    "# If you are feeling patient (it make take a minute or two), \n",
    "# use networkx.draw_networkx to draw this graph"
=======
    "# What is the average clustering of the nodes in this graph?\n",
    "# What is the average shortest path length?\n",
    "# Do this make it a small-world like network? Is this what you would expect?"
>>>>>>> a0c3849e25f1a6699bc3fc2b17f2a10d656fb4a6
   ]
  },
  {
   "cell_type": "code",
   "execution_count": null,
   "metadata": {
    "collapsed": true
   },
   "outputs": [],
   "source": [
<<<<<<< HEAD
    "# What is the average clustering of the nodes in this graph?\n",
    "# What is the average shortest path length?\n",
    "# Do this make it a small-world like network? Is this what you would expect?"
=======
    "# Get the degree of each node in the graph"
>>>>>>> a0c3849e25f1a6699bc3fc2b17f2a10d656fb4a6
   ]
  },
  {
   "cell_type": "code",
   "execution_count": null,
   "metadata": {
    "collapsed": true
   },
   "outputs": [],
   "source": [
<<<<<<< HEAD
    "# Get the degree of each node in the graph"
=======
    "# Sort this degree data in descending order (you can ignore the keys, just use the values)"
>>>>>>> a0c3849e25f1a6699bc3fc2b17f2a10d656fb4a6
   ]
  },
  {
   "cell_type": "code",
   "execution_count": null,
   "metadata": {
    "collapsed": true
   },
   "outputs": [],
   "source": [
<<<<<<< HEAD
    "# Sort this degree data in descending order (you can ignore the keys, just use the values)"
=======
    "# Use matplotlib.pyplot.loglog to display a log-log graph. Does it look scale-free?"
>>>>>>> a0c3849e25f1a6699bc3fc2b17f2a10d656fb4a6
   ]
  },
  {
   "cell_type": "code",
   "execution_count": null,
   "metadata": {
    "collapsed": true
   },
   "outputs": [],
   "source": [
<<<<<<< HEAD
    "# Use matplotlib.pyplot.loglog to display a log-log graph. Does it look scale-free?"
=======
    "# Use a variety of measures (e.g. degree_centrality, betweenneess_centrality, closeness_centrality\n",
    "# pagerank) to find some of the most important nodes"
>>>>>>> a0c3849e25f1a6699bc3fc2b17f2a10d656fb4a6
   ]
  },
  {
   "cell_type": "code",
   "execution_count": null,
   "metadata": {
    "collapsed": true
   },
   "outputs": [],
   "source": [
<<<<<<< HEAD
    "# Use a variety of measures (e.g. degree_centrality, betweenneess_centrality, closeness_centrality\n",
    "# pagerank) to find some of the most important nodes"
=======
    "# If you are very patient, you could draw this graph with those nodes highlighted"
>>>>>>> a0c3849e25f1a6699bc3fc2b17f2a10d656fb4a6
   ]
  },
  {
   "cell_type": "code",
   "execution_count": null,
   "metadata": {
    "collapsed": true
   },
   "outputs": [],
   "source": [
<<<<<<< HEAD
    "# If you are very patient, you could draw this graph with those nodes highlighted"
   ]
  },
  {
   "cell_type": "code",
   "execution_count": null,
   "metadata": {
    "collapsed": true
   },
   "outputs": [],
   "source": [
=======
>>>>>>> a0c3849e25f1a6699bc3fc2b17f2a10d656fb4a6
    "# And if you really, really have a lot of time, try identifying some cliques."
   ]
  }
 ],
 "metadata": {
  "kernelspec": {
   "display_name": "Python 3",
   "language": "python",
   "name": "python3"
  },
  "language_info": {
   "codemirror_mode": {
    "name": "ipython",
    "version": 3
   },
   "file_extension": ".py",
   "mimetype": "text/x-python",
   "name": "python",
   "nbconvert_exporter": "python",
<<<<<<< HEAD
   "pygments_lexer": "ipython3",
   "version": "3.5.1"
=======
   "pygments_lexer": "ipython2",
   "version": "2.7.11"
>>>>>>> a0c3849e25f1a6699bc3fc2b17f2a10d656fb4a6
  }
 },
 "nbformat": 4,
 "nbformat_minor": 0
}
