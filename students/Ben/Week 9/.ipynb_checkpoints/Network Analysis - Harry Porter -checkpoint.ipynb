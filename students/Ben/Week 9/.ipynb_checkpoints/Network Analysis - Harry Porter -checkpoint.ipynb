{
 "cells": [
  {
   "cell_type": "code",
   "execution_count": 1,
   "metadata": {
    "collapsed": true
   },
   "outputs": [],
   "source": [
    "%matplotlib inline\n",
    "import networkx"
   ]
  },
  {
   "cell_type": "code",
   "execution_count": 2,
   "metadata": {
    "collapsed": true
   },
   "outputs": [],
   "source": [
    "import matplotlib.pyplot as plt\n",
    "import pandas"
   ]
  },
  {
   "cell_type": "code",
   "execution_count": 3,
   "metadata": {
    "collapsed": true
   },
   "outputs": [],
   "source": [
    "hp = networkx.Graph()\n",
    "hp.add_node('Harry')\n",
    "hp.add_node('Hermione')\n",
    "hp.add_node('Ron')\n",
    "hp.add_node(\"Ron's dad\")\n",
    "hp.add_node('Malfoy')\n",
    "hp.add_node('Lucius')\n",
    "hp.add_node('Voldemort')\n",
    "hp.add_edge('Voldemort','Lucius')\n",
    "hp.add_edge('Lucius','Malfoy')\n",
    "\n",
    "hp.add_edge('Harry','Hermione')\n",
    "hp.add_edge('Ron',\"Ron's dad\")\n",
    "hp.add_edge('Harry','Malfoy')\n",
    "hp.add_edge('Harry','Voldemort')"
   ]
  },
  {
   "cell_type": "code",
   "execution_count": 5,
   "metadata": {
    "collapsed": true
   },
   "outputs": [],
   "source": [
    "hp.add_edge('Ron','Hermione')"
   ]
  },
  {
   "cell_type": "code",
   "execution_count": 8,
   "metadata": {
    "collapsed": true
   },
   "outputs": [],
   "source": [
    "hp.add_edge('Ron','Harry')"
   ]
  },
  {
   "cell_type": "code",
   "execution_count": 9,
   "metadata": {
    "collapsed": false
   },
   "outputs": [
    {
     "data": {
      "image/png": "[encoded data removed]",
      "text/plain": [
       "<matplotlib.figure.Figure at 0x6242160>"
      ]
     },
     "metadata": {},
     "output_type": "display_data"
    }
   ],
   "source": [
    "networkx.draw_networkx(hp)"
   ]
  },
  {
   "cell_type": "code",
   "execution_count": 10,
   "metadata": {
    "collapsed": false
   },
   "outputs": [
    {
     "data": {
      "text/plain": [
       "0.38095238095238093"
      ]
     },
     "execution_count": 10,
     "metadata": {},
     "output_type": "execute_result"
    }
   ],
   "source": [
    "networkx.density(hp)"
   ]
  },
  {
   "cell_type": "code",
   "execution_count": 11,
   "metadata": {
    "collapsed": false
   },
   "outputs": [
    {
     "data": {
      "text/plain": [
       "0.21428571428571427"
      ]
     },
     "execution_count": 11,
     "metadata": {},
     "output_type": "execute_result"
    }
   ],
   "source": [
    "networkx.average_clustering(hp)"
   ]
  },
  {
   "cell_type": "code",
   "execution_count": 13,
   "metadata": {
    "collapsed": false
   },
   "outputs": [
    {
     "data": {
      "text/plain": [
       "1.9047619047619047"
      ]
     },
     "execution_count": 13,
     "metadata": {},
     "output_type": "execute_result"
    }
   ],
   "source": [
    "networkx.average_shortest_path_length(hp)"
   ]
  },
  {
   "cell_type": "markdown",
   "metadata": {},
   "source": [
    "# networkx.degree_centrality(hp)"
   ]
  },
  {
   "cell_type": "code",
   "execution_count": 17,
   "metadata": {
    "collapsed": true
   },
   "outputs": [],
   "source": [
    "# sort dictionary and find max value\n",
    "def sort_dictionary_by_value(d):\n",
    "    return sorted(d.items(),key=(lambda t: t[1]), reverse=True)"
   ]
  },
  {
   "cell_type": "code",
   "execution_count": 20,
   "metadata": {
    "collapsed": false
   },
   "outputs": [
    {
     "data": {
      "text/plain": [
       "[('Harry', 0.6666666666666666),\n",
       " ('Ron', 0.5),\n",
       " ('Voldemort', 0.3333333333333333),\n",
       " ('Hermione', 0.3333333333333333),\n",
       " ('Lucius', 0.3333333333333333),\n",
       " ('Malfoy', 0.3333333333333333),\n",
       " (\"Ron's dad\", 0.16666666666666666)]"
      ]
     },
     "execution_count": 20,
     "metadata": {},
     "output_type": "execute_result"
    }
   ],
   "source": [
    "sort_dictionary_by_value(networkx.degree_centrality(hp))"
   ]
  },
  {
   "cell_type": "code",
   "execution_count": 21,
   "metadata": {
    "collapsed": false
   },
   "outputs": [
    {
     "data": {
      "text/plain": [
       "[('Harry', 0.75),\n",
       " ('Ron', 0.6),\n",
       " ('Voldemort', 0.5454545454545454),\n",
       " ('Hermione', 0.5454545454545454),\n",
       " ('Malfoy', 0.5454545454545454),\n",
       " ('Lucius', 0.42857142857142855),\n",
       " (\"Ron's dad\", 0.4)]"
      ]
     },
     "execution_count": 21,
     "metadata": {},
     "output_type": "execute_result"
    }
   ],
   "source": [
    "sort_dictionary_by_value(networkx.closeness_centrality(hp))"
   ]
  },
  {
   "cell_type": "code",
   "execution_count": 22,
   "metadata": {
    "collapsed": false
   },
   "outputs": [
    {
     "data": {
      "text/plain": [
       "{'Harry': 0.6333333333333333,\n",
       " 'Hermione': 0.0,\n",
       " 'Lucius': 0.03333333333333333,\n",
       " 'Malfoy': 0.13333333333333333,\n",
       " 'Ron': 0.3333333333333333,\n",
       " \"Ron's dad\": 0.0,\n",
       " 'Voldemort': 0.13333333333333333}"
      ]
     },
     "execution_count": 22,
     "metadata": {},
     "output_type": "execute_result"
    }
   ],
   "source": [
    "networkx.betweenness_centrality(hp)"
   ]
  },
  {
   "cell_type": "code",
   "execution_count": 23,
   "metadata": {
    "collapsed": false
   },
   "outputs": [
    {
     "data": {
      "text/plain": [
       "{'Harry': 0.23417676416851912,\n",
       " 'Hermione': 0.1242703537090288,\n",
       " 'Lucius': 0.12828307748776246,\n",
       " 'Malfoy': 0.12571229288024988,\n",
       " 'Ron': 0.1873377564277064,\n",
       " \"Ron's dad\": 0.0745074624464834,\n",
       " 'Voldemort': 0.12571229288024988}"
      ]
     },
     "execution_count": 23,
     "metadata": {},
     "output_type": "execute_result"
    }
   ],
   "source": [
    "networkx.pagerank(hp)"
   ]
  },
  {
   "cell_type": "code",
   "execution_count": 28,
   "metadata": {
    "collapsed": true
   },
   "outputs": [],
   "source": [
    "import matplotlib.pyplot"
   ]
  },
  {
   "cell_type": "code",
   "execution_count": 37,
   "metadata": {
    "collapsed": false
   },
   "outputs": [
    {
     "data": {
      "image/png": "[encoded data removed]",
      "text/plain": [
       "<matplotlib.figure.Figure at 0xb1bc828>"
      ]
     },
     "metadata": {},
     "output_type": "display_data"
    }
   ],
   "source": [
    "networkx.draw_networkx(hp, node_size=[x*x*100000 for x in networkx.pagerank(hp).values()],\n",
    "                       node_color= list(networkx.betweenness_centrality(hp).values()),\n",
    "                      cmap=plt.cm.cool\n",
    "                      )"
   ]
  },
  {
   "cell_type": "code",
   "execution_count": 38,
   "metadata": {
    "collapsed": false
   },
   "outputs": [
    {
     "data": {
      "text/plain": [
       "[['Harry', 'Hermione', 'Ron'],\n",
       " ['Harry', 'Voldemort'],\n",
       " ['Harry', 'Malfoy'],\n",
       " ['Lucius', 'Voldemort'],\n",
       " ['Lucius', 'Malfoy'],\n",
       " [\"Ron's dad\", 'Ron']]"
      ]
     },
     "execution_count": 38,
     "metadata": {},
     "output_type": "execute_result"
    }
   ],
   "source": [
    "list(networkx.clique.find_cliques(hp))"
   ]
  },
  {
   "cell_type": "code",
   "execution_count": 40,
   "metadata": {
    "collapsed": false
   },
   "outputs": [
    {
     "data": {
      "text/plain": [
       "[('Harry', 'Lucius', 0.5)]"
      ]
     },
     "execution_count": 40,
     "metadata": {},
     "output_type": "execute_result"
    }
   ],
   "source": [
    "list(networkx.jaccard_coefficient(hp,[('Harry','Lucius')]))"
   ]
  },
  {
   "cell_type": "code",
   "execution_count": 41,
   "metadata": {
    "collapsed": false
   },
   "outputs": [
    {
     "data": {
      "text/plain": [
       "[('Malfoy', 'Voldemort', 1.0)]"
      ]
     },
     "execution_count": 41,
     "metadata": {},
     "output_type": "execute_result"
    }
   ],
   "source": [
    "list(networkx.jaccard_coefficient(hp,[('Malfoy','Voldemort')])) \n",
    "# Malfoy and Voldemort has the same degree of connection"
   ]
  },
  {
   "cell_type": "code",
   "execution_count": 42,
   "metadata": {
    "collapsed": false
   },
   "outputs": [
    {
     "data": {
      "text/html": [
       "<div>\n",
       "<table border=\"1\" class=\"dataframe\">\n",
       "  <thead>\n",
       "    <tr style=\"text-align: right;\">\n",
       "      <th></th>\n",
       "      <th>Ron</th>\n",
       "      <th>Voldemort</th>\n",
       "      <th>Hermione</th>\n",
       "      <th>Harry</th>\n",
       "      <th>Lucius</th>\n",
       "      <th>Ron's dad</th>\n",
       "      <th>Malfoy</th>\n",
       "    </tr>\n",
       "  </thead>\n",
       "  <tbody>\n",
       "    <tr>\n",
       "      <th>Ron</th>\n",
       "      <td>0.0</td>\n",
       "      <td>0.0</td>\n",
       "      <td>1.0</td>\n",
       "      <td>1.0</td>\n",
       "      <td>0.0</td>\n",
       "      <td>1.0</td>\n",
       "      <td>0.0</td>\n",
       "    </tr>\n",
       "    <tr>\n",
       "      <th>Voldemort</th>\n",
       "      <td>0.0</td>\n",
       "      <td>0.0</td>\n",
       "      <td>0.0</td>\n",
       "      <td>1.0</td>\n",
       "      <td>1.0</td>\n",
       "      <td>0.0</td>\n",
       "      <td>0.0</td>\n",
       "    </tr>\n",
       "    <tr>\n",
       "      <th>Hermione</th>\n",
       "      <td>1.0</td>\n",
       "      <td>0.0</td>\n",
       "      <td>0.0</td>\n",
       "      <td>1.0</td>\n",
       "      <td>0.0</td>\n",
       "      <td>0.0</td>\n",
       "      <td>0.0</td>\n",
       "    </tr>\n",
       "    <tr>\n",
       "      <th>Harry</th>\n",
       "      <td>1.0</td>\n",
       "      <td>1.0</td>\n",
       "      <td>1.0</td>\n",
       "      <td>0.0</td>\n",
       "      <td>0.0</td>\n",
       "      <td>0.0</td>\n",
       "      <td>1.0</td>\n",
       "    </tr>\n",
       "    <tr>\n",
       "      <th>Lucius</th>\n",
       "      <td>0.0</td>\n",
       "      <td>1.0</td>\n",
       "      <td>0.0</td>\n",
       "      <td>0.0</td>\n",
       "      <td>0.0</td>\n",
       "      <td>0.0</td>\n",
       "      <td>1.0</td>\n",
       "    </tr>\n",
       "    <tr>\n",
       "      <th>Ron's dad</th>\n",
       "      <td>1.0</td>\n",
       "      <td>0.0</td>\n",
       "      <td>0.0</td>\n",
       "      <td>0.0</td>\n",
       "      <td>0.0</td>\n",
       "      <td>0.0</td>\n",
       "      <td>0.0</td>\n",
       "    </tr>\n",
       "    <tr>\n",
       "      <th>Malfoy</th>\n",
       "      <td>0.0</td>\n",
       "      <td>0.0</td>\n",
       "      <td>0.0</td>\n",
       "      <td>1.0</td>\n",
       "      <td>1.0</td>\n",
       "      <td>0.0</td>\n",
       "      <td>0.0</td>\n",
       "    </tr>\n",
       "  </tbody>\n",
       "</table>\n",
       "</div>"
      ],
      "text/plain": [
       "           Ron  Voldemort  Hermione  Harry  Lucius  Ron's dad  Malfoy\n",
       "Ron        0.0        0.0       1.0    1.0     0.0        1.0     0.0\n",
       "Voldemort  0.0        0.0       0.0    1.0     1.0        0.0     0.0\n",
       "Hermione   1.0        0.0       0.0    1.0     0.0        0.0     0.0\n",
       "Harry      1.0        1.0       1.0    0.0     0.0        0.0     1.0\n",
       "Lucius     0.0        1.0       0.0    0.0     0.0        0.0     1.0\n",
       "Ron's dad  1.0        0.0       0.0    0.0     0.0        0.0     0.0\n",
       "Malfoy     0.0        0.0       0.0    1.0     1.0        0.0     0.0"
      ]
     },
     "execution_count": 42,
     "metadata": {},
     "output_type": "execute_result"
    }
   ],
   "source": [
    "networkx.to_pandas_dataframe(hp)\n",
    "# use SVM to predict a column "
   ]
  },
  {
   "cell_type": "code",
   "execution_count": null,
   "metadata": {
    "collapsed": true
   },
   "outputs": [],
   "source": []
  }
 ],
 "metadata": {
  "kernelspec": {
   "display_name": "Python 3",
   "language": "python",
   "name": "python3"
  },
  "language_info": {
   "codemirror_mode": {
    "name": "ipython",
    "version": 3
   },
   "file_extension": ".py",
   "mimetype": "text/x-python",
   "name": "python",
   "nbconvert_exporter": "python",
   "pygments_lexer": "ipython3",
   "version": "3.5.1"
  }
 },
 "nbformat": 4,
 "nbformat_minor": 0
}
