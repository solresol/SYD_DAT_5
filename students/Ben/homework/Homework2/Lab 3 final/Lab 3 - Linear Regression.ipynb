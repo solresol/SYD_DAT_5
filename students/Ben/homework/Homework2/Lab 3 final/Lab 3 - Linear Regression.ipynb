{
 "cells": [
  {
   "cell_type": "markdown",
   "metadata": {},
   "source": [
    "# Introduction to Linear Regression\n",
    "\n"
   ]
  },
  {
   "cell_type": "code",
   "execution_count": 1,
   "metadata": {
    "collapsed": false
   },
   "outputs": [],
   "source": [
    "# this allows plots to appear directly in the notebook\n",
    "%matplotlib inline\n",
    "\n",
    "# Import the libraries required\n",
    "import pandas as pd\n",
    "import matplotlib.pyplot as plt\n",
    "import sklearn.linear_model\n"
   ]
  },
  {
   "cell_type": "code",
   "execution_count": 2,
   "metadata": {
    "collapsed": true
   },
   "outputs": [],
   "source": [
    "# Read in data\n",
    "house_data = pd.read_csv(\"chicagohouseprices2.csv\", index_col=0)"
   ]
  },
  {
   "cell_type": "code",
   "execution_count": 3,
   "metadata": {
    "collapsed": false
   },
   "outputs": [
    {
     "data": {
      "text/html": [
       "<div>\n",
       "<table border=\"1\" class=\"dataframe\">\n",
       "  <thead>\n",
       "    <tr style=\"text-align: right;\">\n",
       "      <th></th>\n",
       "      <th>Price</th>\n",
       "      <th>Bath</th>\n",
       "      <th>CrimeIndex</th>\n",
       "      <th>MinutesToLoop</th>\n",
       "      <th>MilesToLake</th>\n",
       "      <th>Age</th>\n",
       "      <th>LotSizeSqft</th>\n",
       "      <th>HouseSizeSqft</th>\n",
       "      <th>SchoolIndex</th>\n",
       "      <th>EstimatedPrice</th>\n",
       "    </tr>\n",
       "  </thead>\n",
       "  <tbody>\n",
       "    <tr>\n",
       "      <th>count</th>\n",
       "      <td>2.190000e+02</td>\n",
       "      <td>70.000000</td>\n",
       "      <td>219.000000</td>\n",
       "      <td>219.000000</td>\n",
       "      <td>219.000000</td>\n",
       "      <td>219.000000</td>\n",
       "      <td>219.000000</td>\n",
       "      <td>219.000000</td>\n",
       "      <td>219.000000</td>\n",
       "      <td>2.190000e+02</td>\n",
       "    </tr>\n",
       "    <tr>\n",
       "      <th>mean</th>\n",
       "      <td>4.834311e+05</td>\n",
       "      <td>2.271429</td>\n",
       "      <td>4.663607</td>\n",
       "      <td>9.698630</td>\n",
       "      <td>3.420411</td>\n",
       "      <td>29.424658</td>\n",
       "      <td>873.200913</td>\n",
       "      <td>699.977169</td>\n",
       "      <td>49.197717</td>\n",
       "      <td>4.862191e+05</td>\n",
       "    </tr>\n",
       "    <tr>\n",
       "      <th>std</th>\n",
       "      <td>4.001249e+05</td>\n",
       "      <td>0.883364</td>\n",
       "      <td>1.418146</td>\n",
       "      <td>2.898995</td>\n",
       "      <td>0.352522</td>\n",
       "      <td>49.155880</td>\n",
       "      <td>1392.893683</td>\n",
       "      <td>1175.278922</td>\n",
       "      <td>18.554525</td>\n",
       "      <td>3.978582e+05</td>\n",
       "    </tr>\n",
       "    <tr>\n",
       "      <th>min</th>\n",
       "      <td>2.450000e+04</td>\n",
       "      <td>1.000000</td>\n",
       "      <td>1.090000</td>\n",
       "      <td>6.000000</td>\n",
       "      <td>2.770000</td>\n",
       "      <td>0.000000</td>\n",
       "      <td>0.000000</td>\n",
       "      <td>0.000000</td>\n",
       "      <td>16.700000</td>\n",
       "      <td>2.883650e+04</td>\n",
       "    </tr>\n",
       "    <tr>\n",
       "      <th>25%</th>\n",
       "      <td>3.190000e+05</td>\n",
       "      <td>2.000000</td>\n",
       "      <td>3.940000</td>\n",
       "      <td>8.000000</td>\n",
       "      <td>3.150000</td>\n",
       "      <td>0.000000</td>\n",
       "      <td>0.000000</td>\n",
       "      <td>0.000000</td>\n",
       "      <td>36.100000</td>\n",
       "      <td>3.074488e+05</td>\n",
       "    </tr>\n",
       "    <tr>\n",
       "      <th>50%</th>\n",
       "      <td>3.900000e+05</td>\n",
       "      <td>2.000000</td>\n",
       "      <td>4.930000</td>\n",
       "      <td>9.000000</td>\n",
       "      <td>3.400000</td>\n",
       "      <td>0.000000</td>\n",
       "      <td>0.000000</td>\n",
       "      <td>0.000000</td>\n",
       "      <td>50.000000</td>\n",
       "      <td>3.919800e+05</td>\n",
       "    </tr>\n",
       "    <tr>\n",
       "      <th>75%</th>\n",
       "      <td>5.125000e+05</td>\n",
       "      <td>3.000000</td>\n",
       "      <td>5.580000</td>\n",
       "      <td>10.000000</td>\n",
       "      <td>3.685000</td>\n",
       "      <td>41.000000</td>\n",
       "      <td>2614.000000</td>\n",
       "      <td>1344.000000</td>\n",
       "      <td>59.500000</td>\n",
       "      <td>5.324750e+05</td>\n",
       "    </tr>\n",
       "    <tr>\n",
       "      <th>max</th>\n",
       "      <td>3.686000e+06</td>\n",
       "      <td>4.000000</td>\n",
       "      <td>8.080000</td>\n",
       "      <td>22.000000</td>\n",
       "      <td>4.200000</td>\n",
       "      <td>131.000000</td>\n",
       "      <td>7405.000000</td>\n",
       "      <td>6422.000000</td>\n",
       "      <td>93.900000</td>\n",
       "      <td>3.973508e+06</td>\n",
       "    </tr>\n",
       "  </tbody>\n",
       "</table>\n",
       "</div>"
      ],
      "text/plain": [
       "              Price       Bath  CrimeIndex  MinutesToLoop  MilesToLake  \\\n",
       "count  2.190000e+02  70.000000  219.000000     219.000000   219.000000   \n",
       "mean   4.834311e+05   2.271429    4.663607       9.698630     3.420411   \n",
       "std    4.001249e+05   0.883364    1.418146       2.898995     0.352522   \n",
       "min    2.450000e+04   1.000000    1.090000       6.000000     2.770000   \n",
       "25%    3.190000e+05   2.000000    3.940000       8.000000     3.150000   \n",
       "50%    3.900000e+05   2.000000    4.930000       9.000000     3.400000   \n",
       "75%    5.125000e+05   3.000000    5.580000      10.000000     3.685000   \n",
       "max    3.686000e+06   4.000000    8.080000      22.000000     4.200000   \n",
       "\n",
       "              Age  LotSizeSqft  HouseSizeSqft  SchoolIndex  EstimatedPrice  \n",
       "count  219.000000   219.000000     219.000000   219.000000    2.190000e+02  \n",
       "mean    29.424658   873.200913     699.977169    49.197717    4.862191e+05  \n",
       "std     49.155880  1392.893683    1175.278922    18.554525    3.978582e+05  \n",
       "min      0.000000     0.000000       0.000000    16.700000    2.883650e+04  \n",
       "25%      0.000000     0.000000       0.000000    36.100000    3.074488e+05  \n",
       "50%      0.000000     0.000000       0.000000    50.000000    3.919800e+05  \n",
       "75%     41.000000  2614.000000    1344.000000    59.500000    5.324750e+05  \n",
       "max    131.000000  7405.000000    6422.000000    93.900000    3.973508e+06  "
      ]
     },
     "execution_count": 3,
     "metadata": {},
     "output_type": "execute_result"
    }
   ],
   "source": [
    "# Summarise the data\n",
    "house_data.describe()"
   ]
  },
  {
   "cell_type": "code",
   "execution_count": null,
   "metadata": {
    "collapsed": false,
    "scrolled": true
   },
   "outputs": [],
   "source": [
    "# Look for any linear correlations in the data - the bigger the number the better ordinary least squares will do\n",
    "house_data.corr()"
   ]
  },
  {
   "cell_type": "code",
   "execution_count": null,
   "metadata": {
    "collapsed": false
   },
   "outputs": [],
   "source": [
    "pd.scatter_matrix(house_data, figsize=(15,15))"
   ]
  },
  {
   "cell_type": "markdown",
   "metadata": {},
   "source": [
    "### Questions?\n",
    "\n",
    "- Can you describe the data set - give a summary of what's happening?\n",
    "- What looks to be affecting house prices from our initial inspection?\n",
    "- What is the type of relationship in those variables affecting price?"
   ]
  },
  {
   "cell_type": "code",
   "execution_count": null,
   "metadata": {
    "collapsed": false
   },
   "outputs": [],
   "source": [
    "# create a dataframe with just the estimated price column in it\n"
   ]
  },
  {
   "cell_type": "code",
   "execution_count": null,
   "metadata": {
    "collapsed": true
   },
   "outputs": [],
   "source": [
    "# create a RANSAC regressor\n"
   ]
  },
  {
   "cell_type": "code",
   "execution_count": null,
   "metadata": {
    "collapsed": true
   },
   "outputs": [],
   "source": [
    "# use the RANSAC regressor to find how much of the Price is related to the EstimatedPrice  "
   ]
  },
  {
   "cell_type": "code",
   "execution_count": null,
   "metadata": {
    "collapsed": true
   },
   "outputs": [],
   "source": [
    "# use that regression to predict Price based on EstimatedPrice"
   ]
  },
  {
   "cell_type": "code",
   "execution_count": null,
   "metadata": {
    "collapsed": true
   },
   "outputs": [],
   "source": [
    "# draw a scatter plot of Price / EstimatedPrice and overlay the RANSAC prediction on it"
   ]
  },
  {
   "cell_type": "code",
   "execution_count": null,
   "metadata": {
    "collapsed": true
   },
   "outputs": [],
   "source": [
    "# RANSAC has an attribute called 'estimator'. What type is it?"
   ]
  },
  {
   "cell_type": "code",
   "execution_count": null,
   "metadata": {
    "collapsed": true
   },
   "outputs": [],
   "source": [
    "# What is the coefficient (gradient) and y-intercept as reported by this estimator (hint: coef_ and intercept_)"
   ]
  },
  {
   "cell_type": "code",
   "execution_count": null,
   "metadata": {
    "collapsed": true
   },
   "outputs": [],
   "source": [
    "# Create a new data frame with two columns: HouseSizeSqft and Bath"
   ]
  },
  {
   "cell_type": "code",
   "execution_count": null,
   "metadata": {
    "collapsed": true
   },
   "outputs": [],
   "source": [
    "# Regress Price against these values"
   ]
  },
  {
   "cell_type": "code",
   "execution_count": null,
   "metadata": {
    "collapsed": false
   },
   "outputs": [],
   "source": [
    "# What would you expect a house price to be for a house with 3 bathrooms and 3500 sqft?\n"
   ]
  },
  {
   "cell_type": "code",
   "execution_count": null,
   "metadata": {
    "collapsed": true
   },
   "outputs": [],
   "source": [
    "# Can you find any houses in the data set which are similar to this?"
   ]
  },
  {
   "cell_type": "code",
   "execution_count": null,
   "metadata": {
    "collapsed": true
   },
   "outputs": [],
   "source": [
    "# Try selecting different variables or combinations of variables or another regressor."
   ]
  },
  {
   "cell_type": "code",
   "execution_count": null,
   "metadata": {
    "collapsed": true
   },
   "outputs": [],
   "source": [
    "#(Optional) Can you make a 3D plot to show whether they are effective?"
   ]
  }
 ],
 "metadata": {
  "kernelspec": {
   "display_name": "Python 2",
   "language": "python",
   "name": "python2"
  },
  "language_info": {
   "codemirror_mode": {
    "name": "ipython",
    "version": 2
   },
   "file_extension": ".py",
   "mimetype": "text/x-python",
   "name": "python",
   "nbconvert_exporter": "python",
   "pygments_lexer": "ipython2",
   "version": "2.7.11"
  }
 },
 "nbformat": 4,
 "nbformat_minor": 0
}
